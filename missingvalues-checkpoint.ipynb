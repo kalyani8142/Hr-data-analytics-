{
 "cells": [
  {
   "cell_type": "code",
   "execution_count": 2,
   "id": "7e309315-be3e-4357-9b0c-f0f7c041ce3a",
   "metadata": {},
   "outputs": [
    {
     "data": {
      "text/plain": [
       "e_code                      0\n",
       "status                      0\n",
       "hire_date                   0\n",
       "service_agreement           0\n",
       "job_level                   0\n",
       "performance_rating_2018     0\n",
       "performance_rating_2017     0\n",
       "year_of_birth               0\n",
       "gender                      0\n",
       "distance_from_home          0\n",
       "manager_changes             0\n",
       "no_of_promotions            0\n",
       "risk_of_attrition          14\n",
       "potential_rating            0\n",
       "bonus                       0\n",
       "no_courses_taken            0\n",
       "time_in_position            0\n",
       "awards                      0\n",
       "signon                      0\n",
       "manager_sat                 0\n",
       "employee_sat               21\n",
       "salary_2017                 0\n",
       "salary_2018                 0\n",
       "dtype: int64"
      ]
     },
     "execution_count": 2,
     "metadata": {},
     "output_type": "execute_result"
    }
   ],
   "source": [
    "import pandas as pd\n",
    "df=pd.read_excel(\"C:\\\\resources\\\\resources\\\\missing data.xlsx\")\n",
    "df.isna().sum()"
   ]
  },
  {
   "cell_type": "code",
   "execution_count": 3,
   "id": "420da22f-29d1-4b8f-8c45-368c2bf30de7",
   "metadata": {},
   "outputs": [
    {
     "data": {
      "text/plain": [
       "e_code                     0.000000\n",
       "status                     0.000000\n",
       "hire_date                  0.000000\n",
       "service_agreement          0.000000\n",
       "job_level                  0.000000\n",
       "performance_rating_2018    0.000000\n",
       "performance_rating_2017    0.000000\n",
       "year_of_birth              0.000000\n",
       "gender                     0.000000\n",
       "distance_from_home         0.000000\n",
       "manager_changes            0.000000\n",
       "no_of_promotions           0.000000\n",
       "risk_of_attrition          2.083333\n",
       "potential_rating           0.000000\n",
       "bonus                      0.000000\n",
       "no_courses_taken           0.000000\n",
       "time_in_position           0.000000\n",
       "awards                     0.000000\n",
       "signon                     0.000000\n",
       "manager_sat                0.000000\n",
       "employee_sat               3.157895\n",
       "salary_2017                0.000000\n",
       "salary_2018                0.000000\n",
       "dtype: float64"
      ]
     },
     "execution_count": 3,
     "metadata": {},
     "output_type": "execute_result"
    }
   ],
   "source": [
    "df.isna().sum()/df.count()*100"
   ]
  },
  {
   "cell_type": "code",
   "execution_count": 4,
   "id": "e0d40790-3e21-4011-94cd-785021950a3f",
   "metadata": {},
   "outputs": [],
   "source": [
    "df1=df.dropna()\n"
   ]
  },
  {
   "cell_type": "code",
   "execution_count": 5,
   "id": "5e70c503-fcd8-4219-be3c-6cea9e4cabe0",
   "metadata": {},
   "outputs": [
    {
     "data": {
      "text/plain": [
       "e_code                     0\n",
       "status                     0\n",
       "hire_date                  0\n",
       "service_agreement          0\n",
       "job_level                  0\n",
       "performance_rating_2018    0\n",
       "performance_rating_2017    0\n",
       "year_of_birth              0\n",
       "gender                     0\n",
       "distance_from_home         0\n",
       "manager_changes            0\n",
       "no_of_promotions           0\n",
       "risk_of_attrition          0\n",
       "potential_rating           0\n",
       "bonus                      0\n",
       "no_courses_taken           0\n",
       "time_in_position           0\n",
       "awards                     0\n",
       "signon                     0\n",
       "manager_sat                0\n",
       "employee_sat               0\n",
       "salary_2017                0\n",
       "salary_2018                0\n",
       "dtype: int64"
      ]
     },
     "execution_count": 5,
     "metadata": {},
     "output_type": "execute_result"
    }
   ],
   "source": [
    "df1.isna().sum()"
   ]
  },
  {
   "cell_type": "code",
   "execution_count": 7,
   "id": "a45ce545-0d9d-4be3-b894-2b0271527247",
   "metadata": {},
   "outputs": [
    {
     "data": {
      "text/plain": [
       "0      80.0\n",
       "1      84.0\n",
       "2      93.0\n",
       "3      83.0\n",
       "4      80.0\n",
       "       ... \n",
       "681    80.0\n",
       "682    80.0\n",
       "683    80.0\n",
       "684    80.0\n",
       "685    80.0\n",
       "Name: employee_sat, Length: 686, dtype: float64"
      ]
     },
     "execution_count": 7,
     "metadata": {},
     "output_type": "execute_result"
    }
   ],
   "source": [
    "df1=df['employee_sat']\n",
    "df1=df1.fillna(0)\n",
    "df1\n"
   ]
  },
  {
   "cell_type": "code",
   "execution_count": 8,
   "id": "24e68a06-232f-4fc2-acbf-331e7dff70e4",
   "metadata": {},
   "outputs": [
    {
     "data": {
      "text/plain": [
       "0      80.0\n",
       "1      84.0\n",
       "2      93.0\n",
       "3      83.0\n",
       "4      80.0\n",
       "       ... \n",
       "681    80.0\n",
       "682    80.0\n",
       "683    80.0\n",
       "684    80.0\n",
       "685    80.0\n",
       "Name: employee_sat, Length: 686, dtype: float64"
      ]
     },
     "execution_count": 8,
     "metadata": {},
     "output_type": "execute_result"
    }
   ],
   "source": [
    "df1=df['employee_sat']\n",
    "df1=df1.fillna(df1.mean())\n",
    "df1"
   ]
  },
  {
   "cell_type": "code",
   "execution_count": 9,
   "id": "51707a8e-08df-493a-b267-26dcecd46409",
   "metadata": {},
   "outputs": [
    {
     "data": {
      "text/plain": [
       "0      80.0\n",
       "1      84.0\n",
       "2      93.0\n",
       "3      83.0\n",
       "4      80.0\n",
       "       ... \n",
       "681    80.0\n",
       "682    80.0\n",
       "683    80.0\n",
       "684    80.0\n",
       "685    80.0\n",
       "Name: employee_sat, Length: 686, dtype: float64"
      ]
     },
     "execution_count": 9,
     "metadata": {},
     "output_type": "execute_result"
    }
   ],
   "source": [
    "df1=df['employee_sat']\n",
    "df1=df1.fillna(df1.median())\n",
    "df1"
   ]
  },
  {
   "cell_type": "code",
   "execution_count": 10,
   "id": "322e687d-2f70-4429-89cc-459d0c19dd3e",
   "metadata": {},
   "outputs": [
    {
     "data": {
      "text/plain": [
       "employee_sat\n",
       "80.0     403\n",
       "74.0      16\n",
       "85.0      14\n",
       "83.0      13\n",
       "87.0      13\n",
       "86.0      13\n",
       "76.0      13\n",
       "78.0      12\n",
       "89.0      12\n",
       "81.0      12\n",
       "73.0      12\n",
       "92.0      11\n",
       "88.0      11\n",
       "77.0      11\n",
       "82.0      11\n",
       "91.0       9\n",
       "90.0       9\n",
       "79.0       8\n",
       "72.0       8\n",
       "84.0       7\n",
       "75.0       7\n",
       "94.0       6\n",
       "71.0       6\n",
       "93.0       6\n",
       "70.0       6\n",
       "100.0      4\n",
       "95.0       4\n",
       "97.0       3\n",
       "96.0       3\n",
       "98.0       2\n",
       "Name: count, dtype: int64"
      ]
     },
     "execution_count": 10,
     "metadata": {},
     "output_type": "execute_result"
    }
   ],
   "source": [
    "df1=df['employee_sat']\n",
    "df1.value_counts()"
   ]
  },
  {
   "cell_type": "code",
   "execution_count": 11,
   "id": "b0c17f1d-cfe3-45af-98b0-f00ee9c94ae6",
   "metadata": {},
   "outputs": [],
   "source": [
    "# to fill missing values with value as 80\n",
    "df1=df1.fillna(80)"
   ]
  },
  {
   "cell_type": "code",
   "execution_count": 12,
   "id": "6c229b4e-bd4e-4069-a519-b49e881631d6",
   "metadata": {},
   "outputs": [
    {
     "data": {
      "text/plain": [
       "risk_of_attrition\n",
       "LOW          642\n",
       "MEDIUM        19\n",
       "VERY HIGH      8\n",
       "HIGH           3\n",
       "Name: count, dtype: int64"
      ]
     },
     "execution_count": 12,
     "metadata": {},
     "output_type": "execute_result"
    }
   ],
   "source": [
    "#to count each level of catergorical values in a column\n",
    "df1=df\n",
    "df1['risk_of_attrition'].value_counts()"
   ]
  },
  {
   "cell_type": "code",
   "execution_count": 13,
   "id": "514bfe44-71ae-4e64-943f-caa4317a4a34",
   "metadata": {},
   "outputs": [
    {
     "data": {
      "text/plain": [
       "e_code                     0\n",
       "status                     0\n",
       "hire_date                  0\n",
       "service_agreement          0\n",
       "job_level                  0\n",
       "performance_rating_2018    0\n",
       "performance_rating_2017    0\n",
       "year_of_birth              0\n",
       "gender                     0\n",
       "distance_from_home         0\n",
       "manager_changes            0\n",
       "no_of_promotions           0\n",
       "risk_of_attrition          0\n",
       "potential_rating           0\n",
       "bonus                      0\n",
       "no_courses_taken           0\n",
       "time_in_position           0\n",
       "awards                     0\n",
       "signon                     0\n",
       "manager_sat                0\n",
       "employee_sat               0\n",
       "salary_2017                0\n",
       "salary_2018                0\n",
       "dtype: int64"
      ]
     },
     "execution_count": 13,
     "metadata": {},
     "output_type": "execute_result"
    }
   ],
   "source": [
    "#count of low is more so we are imputing 'low' in place where we have missing data by replicating into another df without disturbng actual df\n",
    "df2=df1.fillna('Low')\n",
    "df2.isna().sum()\n",
    "\n",
    "\n"
   ]
  },
  {
   "cell_type": "code",
   "execution_count": null,
   "id": "ed4968ca-a268-4a74-9b5f-34165303f31a",
   "metadata": {},
   "outputs": [],
   "source": []
  }
 ],
 "metadata": {
  "kernelspec": {
   "display_name": "Python 3 (ipykernel)",
   "language": "python",
   "name": "python3"
  },
  "language_info": {
   "codemirror_mode": {
    "name": "ipython",
    "version": 3
   },
   "file_extension": ".py",
   "mimetype": "text/x-python",
   "name": "python",
   "nbconvert_exporter": "python",
   "pygments_lexer": "ipython3",
   "version": "3.11.7"
  }
 },
 "nbformat": 4,
 "nbformat_minor": 5
}
